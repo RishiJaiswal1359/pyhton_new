{
  "nbformat": 4,
  "nbformat_minor": 0,
  "metadata": {
    "colab": {
      "name": "Module-1.ipynb",
      "provenance": [],
      "authorship_tag": "ABX9TyMpG2LT/Hu+1Hqh2YyoEJqx",
      "include_colab_link": true
    },
    "kernelspec": {
      "name": "python3",
      "display_name": "Python 3"
    },
    "language_info": {
      "name": "python"
    }
  },
  "cells": [
    {
      "cell_type": "markdown",
      "metadata": {
        "id": "view-in-github",
        "colab_type": "text"
      },
      "source": [
        "<a href=\"https://colab.research.google.com/github/RishiJaiswal1359/pyhton_new/blob/module_1/Module_1.ipynb\" target=\"_parent\"><img src=\"https://colab.research.google.com/assets/colab-badge.svg\" alt=\"Open In Colab\"/></a>"
      ]
    },
    {
      "cell_type": "markdown",
      "source": [
        "Basic I/O"
      ],
      "metadata": {
        "id": "4mzaA5CUkvxD"
      }
    },
    {
      "cell_type": "code",
      "source": [
        ""
      ],
      "metadata": {
        "id": "w0iDw79O2aAi"
      },
      "execution_count": null,
      "outputs": []
    },
    {
      "cell_type": "code",
      "source": [
        ""
      ],
      "metadata": {
        "id": "bCBooyVE2aDL"
      },
      "execution_count": null,
      "outputs": []
    },
    {
      "cell_type": "code",
      "source": [
        "x = int(input(\"Enter a Number: \"))\n",
        "print(x)"
      ],
      "metadata": {
        "colab": {
          "base_uri": "https://localhost:8080/"
        },
        "id": "cwuiheDhlATF",
        "outputId": "cfcca55d-08c2-43a9-eb8e-6b9b624ecb7b"
      },
      "execution_count": null,
      "outputs": [
        {
          "output_type": "stream",
          "name": "stdout",
          "text": [
            "Enter a Number: 4\n",
            "4\n"
          ]
        }
      ]
    },
    {
      "cell_type": "markdown",
      "source": [
        ".format Datatypes"
      ],
      "metadata": {
        "id": "mZ1wKYOHlMR6"
      }
    },
    {
      "cell_type": "code",
      "source": [
        "x = int(input(\"Enter Number: \"))\n",
        "print(x, \"is\", type(x))"
      ],
      "metadata": {
        "colab": {
          "base_uri": "https://localhost:8080/"
        },
        "id": "gOfk_yo8lT-g",
        "outputId": "1b42cff2-c89d-46ca-c4b2-aae64e687433"
      },
      "execution_count": null,
      "outputs": [
        {
          "output_type": "stream",
          "name": "stdout",
          "text": [
            "Enter Number: 4\n",
            "4 is <class 'int'>\n"
          ]
        }
      ]
    },
    {
      "cell_type": "markdown",
      "source": [
        "Arithmetic Operations"
      ],
      "metadata": {
        "id": "HJ4QworDl2Pe"
      }
    },
    {
      "cell_type": "code",
      "source": [
        "a, b = map(int, input(\"Enter two numbers: \").split())\n",
        "print(\"Sum: \", a+b)\n",
        "print(\"Difference: \", a-b)\n",
        "print(\"Product: \", a*b)\n",
        "print(\"Quotient: \", a/b)"
      ],
      "metadata": {
        "colab": {
          "base_uri": "https://localhost:8080/"
        },
        "id": "mevScj1Cl_mz",
        "outputId": "7b361e4e-1324-4f5a-d1bd-7a67501cf476"
      },
      "execution_count": null,
      "outputs": [
        {
          "output_type": "stream",
          "name": "stdout",
          "text": [
            "Enter two numbers: 4 1\n",
            "Sum:  5\n",
            "Difference:  3\n",
            "Product:  4\n",
            "Quotient:  4.0\n"
          ]
        }
      ]
    },
    {
      "cell_type": "markdown",
      "source": [
        "Conversion of Units"
      ],
      "metadata": {
        "id": "zhcJlGVanMMK"
      }
    },
    {
      "cell_type": "code",
      "source": [
        "print(\"Choices\")\n",
        "print(\"1.Hour to Minutes\")\n",
        "print(\"2.Miles to Kms\")\n",
        "k = 'y'\n",
        "while k == 'y' or k == 'Y':\n",
        "  c = int(input(\"Enter your choice: \"))\n",
        "  if c == 1:\n",
        "    time = int(input(\"Enter time in hours: \"))\n",
        "    print(time, \" hrs = \", int(time*60), \" mins.\")\n",
        "    k = input(\"Do you want to continue(y/n): \")\n",
        "  elif c == 2:\n",
        "    dist = int(input(\"Enter distance in miles: \"))\n",
        "    print(dist, \" miles = \", (dist*1.609), \" kms.\")\n",
        "    k = input(\"Do you want to continue(y/n): \")\n",
        "  else: \n",
        "    print(\"INVALID INPUT!!!\")\n",
        "    k = input(\"Do you want to continue(y/n): \")"
      ],
      "metadata": {
        "colab": {
          "base_uri": "https://localhost:8080/"
        },
        "id": "rKycBgN1nQx7",
        "outputId": "8337f05c-b53b-4809-972e-1ab4fbd1027e"
      },
      "execution_count": null,
      "outputs": [
        {
          "name": "stdout",
          "output_type": "stream",
          "text": [
            "Choices\n",
            "1.Hour to Minutes\n",
            "2.Miles to Kms\n",
            "Enter your choice: 1\n",
            "Enter time in hours: 4\n",
            "4  hrs =  240  mins.\n",
            "Do you want to continue(y/n): y\n",
            "Enter your choice: 2\n",
            "Enter distance in miles: 4\n",
            "4  miles =  6.436  kms.\n",
            "Do you want to continue(y/n): y\n",
            "Enter your choice: 3\n",
            "INVALID INPUT!!!\n",
            "Do you want to continue(y/n): n\n"
          ]
        }
      ]
    },
    {
      "cell_type": "markdown",
      "source": [
        "Math Functions "
      ],
      "metadata": {
        "id": "UD1B2oOZpplr"
      }
    },
    {
      "cell_type": "code",
      "source": [
        "import math\n",
        "\n",
        "a, b = map(float, input(\"Enter Numbers: \").split())\n",
        "print(\"Ceil of \", a, \" = \", math.ceil(a), \"and Ceil of \", b, \" = \", math.ceil(b))\n",
        "print(\"Floor of \", a, \" = \", math.floor(a), \" and Floor of \", b, \" = \", math.floor(b))\n",
        "print(\"Absolute Value of \", a, \" = \", math.fabs(a), \"and Absolute Value of \", b, \" = \", math.fabs(b))\n",
        "print(\"Remainder of a/b: \", math.fmod(a, b))\n",
        "print(\"Trunc of \", a, \" = \", math.trunc(a), \"and Trunc of \", b, \" = \", math.trunc(b))\n",
        "print(\"a^b = \", math.pow(a, b))\n",
        "print(\"SquareRoot of \", a, \" = \", math.sqrt(a), \"SquareRoot of \", b, \" = \", math.sqrt(b))"
      ],
      "metadata": {
        "colab": {
          "base_uri": "https://localhost:8080/"
        },
        "id": "--qMCiBpp8S6",
        "outputId": "8e3e36ed-bea7-4559-f15f-76a358749838"
      },
      "execution_count": null,
      "outputs": [
        {
          "output_type": "stream",
          "name": "stdout",
          "text": [
            "Enter Numbers: 1.4 4.8\n",
            "Ceil of  1.4  =  2 and Ceil of  4.8  =  5\n",
            "Floor of  1.4  =  1  and Floor of  4.8  =  4\n",
            "Absolute Value of  1.4  =  1.4 and Absolute Value of  4.8  =  4.8\n",
            "Remainder of a/b:  1.4\n",
            "Trunc of  1.4  =  1 and Trunc of  4.8  =  4\n",
            "a^b =  5.0282234746967465\n",
            "SquareRoot of  1.4  =  1.1832159566199232 SquareRoot of  4.8  =  2.1908902300206643\n"
          ]
        }
      ]
    },
    {
      "cell_type": "markdown",
      "source": [
        "Arithmetic Calculator"
      ],
      "metadata": {
        "id": "BY3NDFUUuNTq"
      }
    },
    {
      "cell_type": "code",
      "source": [
        "a, o, b = input().strip().split()\n",
        "a, b = int(a), int(b)\n",
        "if o == '+':\n",
        "  print(a+b)\n",
        "elif o == '-':\n",
        "  print(a-b)\n",
        "elif o == '*' or o == 'x':\n",
        "  print(a*b)\n",
        "elif o == '/':\n",
        "  print(a/b)\n",
        "elif o == '%':\n",
        "  print(a%b)\n",
        "else:\n",
        "  print(\"Invalid Input!!!\")"
      ],
      "metadata": {
        "colab": {
          "base_uri": "https://localhost:8080/"
        },
        "id": "M1_9Y0mYuR_C",
        "outputId": "cfba1761-1f01-4806-8849-0246c7f88612"
      },
      "execution_count": null,
      "outputs": [
        {
          "output_type": "stream",
          "name": "stdout",
          "text": [
            "5 x 5\n",
            "25\n"
          ]
        }
      ]
    },
    {
      "cell_type": "markdown",
      "source": [
        "Grade of a Student"
      ],
      "metadata": {
        "id": "atrc8urZwYN2"
      }
    },
    {
      "cell_type": "code",
      "source": [
        "print(\"Marks Obtained in-\")\n",
        "eng = float(input(\"English: \"))\n",
        "hin = float(input(\"Hindi: \"))\n",
        "mat = float(input(\"Maths: \"))\n",
        "sci = float(input(\"Science: \"))\n",
        "sst = float(input(\"Social Studies: \"))\n",
        "avg = (eng+hin+mat+sci+sst)/5\n",
        "if avg > 90:\n",
        "  print('Grade: A+')\n",
        "elif avg > 80:\n",
        "  print('Grade: A')\n",
        "elif avg > 70:\n",
        "  print('Grade: B')\n",
        "elif avg > 60:\n",
        "  print('Grade: C')\n",
        "elif avg > 50:\n",
        "  print('Grade: D')\n",
        "elif avg >= 40:\n",
        "  print('Grade: E')\n",
        "else:\n",
        "  print('FAIL Grade: F')"
      ],
      "metadata": {
        "colab": {
          "base_uri": "https://localhost:8080/"
        },
        "id": "QsdbIK3PwgIg",
        "outputId": "5fb58773-a0d5-4c17-88a7-2bddc588ec46"
      },
      "execution_count": null,
      "outputs": [
        {
          "output_type": "stream",
          "name": "stdout",
          "text": [
            "Marks Obtained in-\n",
            "English: 40\n",
            "Hindi: 97\n",
            "Maths: 56\n",
            "Science: 78\n",
            "Social Studies: 64\n",
            "Grade: C\n"
          ]
        }
      ]
    },
    {
      "cell_type": "markdown",
      "source": [
        "Even/Odd in a Range"
      ],
      "metadata": {
        "id": "-pVngLt1yHhm"
      }
    },
    {
      "cell_type": "code",
      "source": [
        "a, b = map(int, input().split())\n",
        "ct_even, ct_odd = 0, 0\n",
        "print(\"Even Numbers: \")\n",
        "for i in range(a, b+1):\n",
        "  if i%2 == 0:\n",
        "    print(i)\n",
        "    ct_even+=1\n",
        "print(\"Count of Even Numbers: \", ct_even)\n",
        "print()\n",
        "print(\"Odd Numbers: \")\n",
        "for i in range(a, b+1):\n",
        "  if i%2 != 0:\n",
        "    print(i)\n",
        "    ct_odd+=1\n",
        "print(\"Count of Odd Numbers: \", ct_odd)"
      ],
      "metadata": {
        "colab": {
          "base_uri": "https://localhost:8080/"
        },
        "id": "Up8IJtcVyN0q",
        "outputId": "1dd180f6-f8bd-44f9-a811-7b6783807959"
      },
      "execution_count": null,
      "outputs": [
        {
          "output_type": "stream",
          "name": "stdout",
          "text": [
            "42 56\n",
            "Even Numbers: \n",
            "42\n",
            "44\n",
            "46\n",
            "48\n",
            "50\n",
            "52\n",
            "54\n",
            "56\n",
            "Count of Even Numbers:  8\n",
            "\n",
            "Odd Numbers: \n",
            "43\n",
            "45\n",
            "47\n",
            "49\n",
            "51\n",
            "53\n",
            "55\n",
            "Count of Odd Numbers:  7\n"
          ]
        }
      ]
    },
    {
      "cell_type": "markdown",
      "source": [
        "Factorial\n"
      ],
      "metadata": {
        "id": "4HTWOF82zmGz"
      }
    },
    {
      "cell_type": "code",
      "source": [
        "n = int(input(\"Number: \"))\n",
        "fact = 1\n",
        "for i in range(1, n+1):\n",
        "  fact*=i\n",
        "print(\"Factorial: \", fact)"
      ],
      "metadata": {
        "colab": {
          "base_uri": "https://localhost:8080/"
        },
        "id": "vtvfLnd8zoU4",
        "outputId": "fbd839e4-4b97-420a-eeaf-276097ebb343"
      },
      "execution_count": null,
      "outputs": [
        {
          "output_type": "stream",
          "name": "stdout",
          "text": [
            "Number: 5\n",
            "Factorial:  120\n"
          ]
        }
      ]
    },
    {
      "cell_type": "markdown",
      "source": [
        "GCD Greatest Common Divisor"
      ],
      "metadata": {
        "id": "VbaOlOMA233h"
      }
    },
    {
      "cell_type": "code",
      "source": [
        "a, b = map(int, input().split())\n",
        "i = 1\n",
        "while i<=a and i<=b:\n",
        "  if a%i == 0 and b%i == 0:\n",
        "    gcd = i\n",
        "  i+=1\n",
        "print(\"GCD: \", gcd)"
      ],
      "metadata": {
        "colab": {
          "base_uri": "https://localhost:8080/"
        },
        "id": "o2Absj8b28Jz",
        "outputId": "53cba49e-22bc-4d7f-a628-b761f3745fde"
      },
      "execution_count": null,
      "outputs": [
        {
          "output_type": "stream",
          "name": "stdout",
          "text": [
            "24 40\n",
            "GCD:  8\n"
          ]
        }
      ]
    },
    {
      "cell_type": "markdown",
      "source": [
        "Fibonacci"
      ],
      "metadata": {
        "id": "FXaMfQ5S4N39"
      }
    },
    {
      "cell_type": "code",
      "source": [
        "a = 0\n",
        "b = 1\n",
        "n = int(input(\"Number: \"))\n",
        "print(a)\n",
        "print(b)\n",
        "for i in range(0, n-2):\n",
        "  a, b = b, a+b\n",
        "  print(b)"
      ],
      "metadata": {
        "colab": {
          "base_uri": "https://localhost:8080/"
        },
        "id": "yN0_ESvl4SJu",
        "outputId": "3a2ae1d5-9f2d-4ef3-a302-bdbdbe5e5afb"
      },
      "execution_count": null,
      "outputs": [
        {
          "output_type": "stream",
          "name": "stdout",
          "text": [
            "Number: 8\n",
            "0\n",
            "1\n",
            "1\n",
            "2\n",
            "3\n",
            "5\n",
            "8\n",
            "13\n"
          ]
        }
      ]
    },
    {
      "cell_type": "markdown",
      "source": [
        "Palindrome"
      ],
      "metadata": {
        "id": "jz5tVVmQ43qz"
      }
    },
    {
      "cell_type": "code",
      "source": [
        "n = int(input(\"Number: \"))\n",
        "n = str(n)\n",
        "rev = n[::-1]\n",
        "if n == rev:\n",
        "  print(\"Palindrome\")"
      ],
      "metadata": {
        "colab": {
          "base_uri": "https://localhost:8080/"
        },
        "id": "etD0qIhb46MA",
        "outputId": "679f2556-6a65-41e5-81fd-73f9e8b45142"
      },
      "execution_count": null,
      "outputs": [
        {
          "output_type": "stream",
          "name": "stdout",
          "text": [
            "Number: 12321\n",
            "Palindrome\n"
          ]
        }
      ]
    },
    {
      "cell_type": "markdown",
      "source": [
        "Strong"
      ],
      "metadata": {
        "id": "oQ_VXW6BPRm-"
      }
    },
    {
      "cell_type": "code",
      "source": [
        "import math\n",
        "n = int(input('Number: '))\n",
        "strn = str(n)\n",
        "strong = 0\n",
        "for i in strn:\n",
        "  strong+=math.factorial(int(i))\n",
        "if strong == n:\n",
        "  print('Strong')\n",
        "else:\n",
        "  print('Not Strong') "
      ],
      "metadata": {
        "colab": {
          "base_uri": "https://localhost:8080/"
        },
        "id": "zmlQTeOvPTcp",
        "outputId": "cc9e4689-8bc2-488f-90e2-b3f90e5b209e"
      },
      "execution_count": null,
      "outputs": [
        {
          "output_type": "stream",
          "name": "stdout",
          "text": [
            "Number: 145\n",
            "Strong\n"
          ]
        }
      ]
    },
    {
      "cell_type": "markdown",
      "source": [
        "Perfect"
      ],
      "metadata": {
        "id": "FJQyN51QQZWD"
      }
    },
    {
      "cell_type": "code",
      "source": [
        "n = int(input('Number: '))\n",
        "dsum = 0\n",
        "for i in range(1, n):\n",
        "  if n%i == 0:\n",
        "    dsum+=i\n",
        "if dsum == n:\n",
        "  print('Perfect')\n",
        "else:\n",
        "  print('Not Perfect')"
      ],
      "metadata": {
        "colab": {
          "base_uri": "https://localhost:8080/"
        },
        "id": "HmyHBQWtQcKK",
        "outputId": "d918bf9a-8363-49d6-be1a-a22a699af075"
      },
      "execution_count": null,
      "outputs": [
        {
          "output_type": "stream",
          "name": "stdout",
          "text": [
            "Number: 6\n",
            "Perfect\n"
          ]
        }
      ]
    },
    {
      "cell_type": "markdown",
      "source": [
        "Compound Interest Using Loop"
      ],
      "metadata": {
        "id": "S5m6p-KSRc9v"
      }
    },
    {
      "cell_type": "code",
      "source": [
        "principal = float(input('Pricipal: '))\n",
        "rate = float(input('Rate: '))\n",
        "amount = 1\n",
        "for t in range(1,21):\n",
        "  print(t, ': ', '{:.2f}'.format(principal*((1+(rate))**(t))))"
      ],
      "metadata": {
        "colab": {
          "base_uri": "https://localhost:8080/"
        },
        "id": "yxPujwHdRjDi",
        "outputId": "0f24b7ae-a733-4e87-c264-3eb5f906df61"
      },
      "execution_count": null,
      "outputs": [
        {
          "output_type": "stream",
          "name": "stdout",
          "text": [
            "Pricipal: 1000\n",
            "Rate: 0.34\n",
            "1 :  1340.00\n",
            "2 :  1795.60\n",
            "3 :  2406.10\n",
            "4 :  3224.18\n",
            "5 :  4320.40\n",
            "6 :  5789.34\n",
            "7 :  7757.71\n",
            "8 :  10395.33\n",
            "9 :  13929.75\n",
            "10 :  18665.86\n",
            "11 :  25012.25\n",
            "12 :  33516.42\n",
            "13 :  44912.00\n",
            "14 :  60182.08\n",
            "15 :  80643.98\n",
            "16 :  108062.94\n",
            "17 :  144804.34\n",
            "18 :  194037.81\n",
            "19 :  260010.67\n",
            "20 :  348414.30\n"
          ]
        }
      ]
    }
  ]
}