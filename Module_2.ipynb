{
  "nbformat": 4,
  "nbformat_minor": 0,
  "metadata": {
    "colab": {
      "name": "Module-2.ipynb",
      "provenance": [],
      "collapsed_sections": [],
      "toc_visible": true,
      "authorship_tag": "ABX9TyNBJRYcWuiIwMKXrXkvRsXX",
      "include_colab_link": true
    },
    "kernelspec": {
      "name": "python3",
      "display_name": "Python 3"
    },
    "language_info": {
      "name": "python"
    }
  },
  "cells": [
    {
      "cell_type": "markdown",
      "metadata": {
        "id": "view-in-github",
        "colab_type": "text"
      },
      "source": [
        "<a href=\"https://colab.research.google.com/github/RishiJaiswal1359/pyhton_new/blob/module_2/Module_2.ipynb\" target=\"_parent\"><img src=\"https://colab.research.google.com/assets/colab-badge.svg\" alt=\"Open In Colab\"/></a>"
      ]
    },
    {
      "cell_type": "markdown",
      "source": [
        "nCr Function"
      ],
      "metadata": {
        "id": "97N5MP3iYskB"
      }
    },
    {
      "cell_type": "code",
      "source": [
        "import math\n",
        "\n",
        "def C(n, r):\n",
        "  return math.factorial(n)/(math.factorial(n-r)*math.factorial(r))\n",
        "\n",
        "n = int(input('n: '))\n",
        "r = int(input('r: '))\n",
        "print(C(n, r))"
      ],
      "metadata": {
        "colab": {
          "base_uri": "https://localhost:8080/"
        },
        "id": "9D_N_p2QY3E5",
        "outputId": "16f06339-1d3f-48c0-f15a-027d5fa0a00f"
      },
      "execution_count": null,
      "outputs": [
        {
          "output_type": "stream",
          "name": "stdout",
          "text": [
            "n: 12\n",
            "r: 2\n",
            "66.0\n"
          ]
        }
      ]
    },
    {
      "cell_type": "markdown",
      "source": [
        "GCD Recursive"
      ],
      "metadata": {
        "id": "5S3111PDZt5o"
      }
    },
    {
      "cell_type": "code",
      "source": [
        "def gcdf(x, y, i, gcd):\n",
        "  if i<=x and i<=y:\n",
        "    if (x%i == 0) and (y%i == 0):\n",
        "      gcd = i\n",
        "      return gcdf(x, y, i+1, gcd)\n",
        "    else:\n",
        "      return gcdf(x, y, i+1, gcd)\n",
        "  else:\n",
        "    return gcd\n",
        "\n",
        "n1 = int(input('Number1: '))\n",
        "n2 = int(input('Number2: '))\n",
        "gcd = gcdf(n1, n2, 1, 1)\n",
        "print(gcd)"
      ],
      "metadata": {
        "colab": {
          "base_uri": "https://localhost:8080/"
        },
        "id": "Sgw6-BPTZxma",
        "outputId": "964ac75e-be15-404a-f2ad-0265ac3e04a8"
      },
      "execution_count": null,
      "outputs": [
        {
          "output_type": "stream",
          "name": "stdout",
          "text": [
            "Number1: 24\n",
            "Number2: 42\n",
            "6\n"
          ]
        }
      ]
    },
    {
      "cell_type": "markdown",
      "source": [
        "Product Recursion"
      ],
      "metadata": {
        "id": "D3prfYmIcLVm"
      }
    },
    {
      "cell_type": "code",
      "source": [
        "def product(x, y):\n",
        "  if x!=1:\n",
        "    y+=product(x-1, y)\n",
        "  return y\n",
        "\n",
        "x = int(input('Number 1: '))\n",
        "y = int(input('Number 2: '))\n",
        "z = product(x, y)\n",
        "print(z)"
      ],
      "metadata": {
        "colab": {
          "base_uri": "https://localhost:8080/"
        },
        "id": "rEilRNtCcVVw",
        "outputId": "ecf030e0-4c86-4349-95a6-d3dfe5edde6b"
      },
      "execution_count": null,
      "outputs": [
        {
          "output_type": "stream",
          "name": "stdout",
          "text": [
            "Number 1: 10\n",
            "Number 2: 2\n",
            "20\n"
          ]
        }
      ]
    },
    {
      "cell_type": "markdown",
      "source": [
        "Fibonacci Recursion"
      ],
      "metadata": {
        "id": "awKXDErthDv-"
      }
    },
    {
      "cell_type": "code",
      "source": [
        "def recfibo(x, a, b):\n",
        "  if(x!=0):\n",
        "    print(b)\n",
        "    recfibo(x-1, b, a+b)\n",
        "\n",
        "\n",
        "n = int(input('Number of Terms: '))\n",
        "print(0)\n",
        "recfibo(n, 0, 1)"
      ],
      "metadata": {
        "colab": {
          "base_uri": "https://localhost:8080/"
        },
        "id": "4GZGHh-nhKcx",
        "outputId": "c1ddfafc-03d5-4106-c1e3-acb16b8b06f6"
      },
      "execution_count": null,
      "outputs": [
        {
          "output_type": "stream",
          "name": "stdout",
          "text": [
            "Number of Terms: 8\n",
            "0\n",
            "1\n",
            "1\n",
            "2\n",
            "3\n",
            "5\n",
            "8\n",
            "13\n",
            "21\n"
          ]
        }
      ]
    },
    {
      "cell_type": "markdown",
      "source": [
        "Removing List ELements"
      ],
      "metadata": {
        "id": "tgKRgw8Ti_HK"
      }
    },
    {
      "cell_type": "code",
      "source": [
        "l = ['Red', 'Green', 'White', 'Black', 'Pink', 'Yellow']\n",
        "del l[5]\n",
        "del l[4]\n",
        "del l[0]\n",
        "print(l)"
      ],
      "metadata": {
        "colab": {
          "base_uri": "https://localhost:8080/"
        },
        "id": "JqfIL6pzjDa7",
        "outputId": "b46e2a3b-73a0-4444-f2ea-ea17b53c06bf"
      },
      "execution_count": null,
      "outputs": [
        {
          "output_type": "stream",
          "name": "stdout",
          "text": [
            "['Green', 'White', 'Black']\n"
          ]
        }
      ]
    },
    {
      "cell_type": "markdown",
      "source": [
        "List Difference"
      ],
      "metadata": {
        "id": "uIRu3ENGkDPH"
      }
    },
    {
      "cell_type": "code",
      "source": [
        "l1 = list(input().split())\n",
        "l2 = list(input().split())\n",
        "l3 = []\n",
        "\n",
        "for i in (l1+l2):\n",
        "  if (not (i in l1)) + (not (i in l2)):\n",
        "    l3.append(i)\n",
        "\n",
        "print(l3)"
      ],
      "metadata": {
        "colab": {
          "base_uri": "https://localhost:8080/"
        },
        "id": "p3rmnbFUkqAs",
        "outputId": "67b6c51b-0536-4f6c-c1a2-309a75cb93e2"
      },
      "execution_count": null,
      "outputs": [
        {
          "output_type": "stream",
          "name": "stdout",
          "text": [
            "1 2 3 4\n",
            "2 4 6 8\n",
            "['1', '3', '6', '8']\n"
          ]
        }
      ]
    },
    {
      "cell_type": "markdown",
      "source": [
        "Second Smallest and Largest"
      ],
      "metadata": {
        "id": "4sQ7RWmGmGjj"
      }
    },
    {
      "cell_type": "code",
      "source": [
        "l = list(input(\"Enter the List: \").split())\n",
        "l.sort()\n",
        "\n",
        "for i in range(0, len(l)-1):\n",
        "  if l[i] != l[0]:\n",
        "    print(l[i])\n",
        "    break\n",
        "\n",
        "for i in range(-1, -len(l), -1) :\n",
        "  if l[i] != l[-1]:\n",
        "    print(l[i])\n",
        "    break"
      ],
      "metadata": {
        "colab": {
          "base_uri": "https://localhost:8080/"
        },
        "id": "hEAryld3mKRZ",
        "outputId": "a6412f05-b2aa-40c6-9725-1aff6e1e2a99"
      },
      "execution_count": null,
      "outputs": [
        {
          "output_type": "stream",
          "name": "stdout",
          "text": [
            "Enter the List: 1 2 3 4 4 3 2 1\n",
            "2\n",
            "3\n"
          ]
        }
      ]
    },
    {
      "cell_type": "markdown",
      "source": [
        "Number Sqaure Tuples"
      ],
      "metadata": {
        "id": "nboDiVKFow5T"
      }
    },
    {
      "cell_type": "code",
      "source": [
        "l = list(map(int, input('List: ').split()))\n",
        "sqtlist = []\n",
        "for i in l:\n",
        "  sqtlist.append((i, i**2))\n",
        "print(sqtlist)"
      ],
      "metadata": {
        "colab": {
          "base_uri": "https://localhost:8080/"
        },
        "id": "NTnE3-eoozjr",
        "outputId": "eb0b9351-fa1f-4b31-80b2-624c7a09cd21"
      },
      "execution_count": null,
      "outputs": [
        {
          "output_type": "stream",
          "name": "stdout",
          "text": [
            "List: 1 2 3 4\n",
            "[(1, 1), (2, 4), (3, 9), (4, 16)]\n"
          ]
        }
      ]
    },
    {
      "cell_type": "markdown",
      "source": [
        "Tuple Removal"
      ],
      "metadata": {
        "id": "SXLW8-nQpuJN"
      }
    },
    {
      "cell_type": "code",
      "source": [
        "l = eval(input('List of Tuples: '))\n",
        "r = int(input('Length: '))\n",
        "for i in l:\n",
        "  if len(i) == r:\n",
        "    l.remove(i)\n",
        "print(l)\n"
      ],
      "metadata": {
        "colab": {
          "base_uri": "https://localhost:8080/"
        },
        "id": "2VetRemXpwGb",
        "outputId": "e011a3f0-f318-4306-c9f7-aa49676eddda"
      },
      "execution_count": null,
      "outputs": [
        {
          "output_type": "stream",
          "name": "stdout",
          "text": [
            "List of Tuples: [ (2,3) , (4,5,6) , (7,8) , (9,) ]\n",
            "Length: 2\n",
            "[(4, 5, 6), (9,)]\n"
          ]
        }
      ]
    },
    {
      "cell_type": "markdown",
      "source": [
        "Dictionary Generator"
      ],
      "metadata": {
        "id": "I36dw6vPtVnv"
      }
    },
    {
      "cell_type": "code",
      "source": [
        "n = int(input('Number: '))\n",
        "ndict = dict()\n",
        "for i in range(1, n+1):\n",
        "  ndict.update({i: i**2})\n",
        "print(ndict)"
      ],
      "metadata": {
        "colab": {
          "base_uri": "https://localhost:8080/"
        },
        "id": "uvDvzq6gtX6E",
        "outputId": "f1ad6fd7-9012-4ebf-d33d-a42393881be3"
      },
      "execution_count": null,
      "outputs": [
        {
          "output_type": "stream",
          "name": "stdout",
          "text": [
            "Number: 5\n",
            "{1: 1, 2: 4, 3: 9, 4: 16, 5: 25}\n"
          ]
        }
      ]
    },
    {
      "cell_type": "markdown",
      "source": [
        "Removing a Key"
      ],
      "metadata": {
        "id": "1l99kE_RvAg4"
      }
    },
    {
      "cell_type": "code",
      "source": [
        "dic = eval(input('Dictionary: '))\n",
        "x = 'y'\n",
        "while x == 'y':\n",
        "  item = input('Key: ')\n",
        "  if item in dic.keys():\n",
        "    dic.pop(item)\n",
        "  else:\n",
        "    print('Element not present in the dictionary.')\n",
        "\n",
        "  print(dic)\n",
        "  \n",
        "  x = input('Do you want to continue(y/n): ')"
      ],
      "metadata": {
        "colab": {
          "base_uri": "https://localhost:8080/"
        },
        "id": "J9HkaW1mvESJ",
        "outputId": "3eb2d264-ce1a-4016-ccae-1c549e04469e"
      },
      "execution_count": null,
      "outputs": [
        {
          "name": "stdout",
          "output_type": "stream",
          "text": [
            "Dictionary: {'Rishi' : 101, 'Swayam' : 100, 'Mohana' : 70, 'Yogindar' : 0}\n",
            "Key: Yogindar\n",
            "{'Rishi': 101, 'Swayam': 100, 'Mohana': 70}\n",
            "Do you want to continue(y/n): y\n",
            "Key: Sagar\n",
            "Element not present in the dictionary.\n",
            "{'Rishi': 101, 'Swayam': 100, 'Mohana': 70}\n",
            "Do you want to continue(y/n): n\n"
          ]
        }
      ]
    },
    {
      "cell_type": "markdown",
      "source": [
        "Maximum and Minimum Dictionary"
      ],
      "metadata": {
        "id": "NzXj-yRlxHM5"
      }
    },
    {
      "cell_type": "code",
      "source": [
        "dic = eval(input('Dictionary: '))\n",
        "values = list(dic.values())\n",
        "values.sort()\n",
        "print('Maximum: ', values[-1])\n",
        "print('Minimum: ', values[0])"
      ],
      "metadata": {
        "colab": {
          "base_uri": "https://localhost:8080/"
        },
        "id": "JtLZ_48GxPE2",
        "outputId": "d51535d6-7032-4b95-ce5e-d1157fdfe3b9"
      },
      "execution_count": null,
      "outputs": [
        {
          "output_type": "stream",
          "name": "stdout",
          "text": [
            "Dictionary: {'Rishi' : 101, 'Swayam' : 100, 'Mohana' : 70, 'Yogindar' : 0}\n",
            "Maximum:  101\n",
            "Minimum:  0\n"
          ]
        }
      ]
    },
    {
      "cell_type": "markdown",
      "source": [
        "String Splitting"
      ],
      "metadata": {
        "id": "NLpU8lQm1kAd"
      }
    },
    {
      "cell_type": "code",
      "source": [
        "strn = input('String: ')\n",
        "print(strn[8:3:-1])"
      ],
      "metadata": {
        "colab": {
          "base_uri": "https://localhost:8080/"
        },
        "id": "rpi0KNWL1o5f",
        "outputId": "e6fdb772-bf87-4244-828a-120882c0fe7d"
      },
      "execution_count": null,
      "outputs": [
        {
          "output_type": "stream",
          "name": "stdout",
          "text": [
            "String: Are bhaiya maaf kardo\n",
            "yiahb\n"
          ]
        }
      ]
    },
    {
      "cell_type": "markdown",
      "source": [
        "Accesing element"
      ],
      "metadata": {
        "id": "sxLRlS0d2jLg"
      }
    },
    {
      "cell_type": "code",
      "source": [
        "st = input('String: ')\n",
        "p = int(input('Position: '))\n",
        "if p <= len(st):\n",
        "  print(st[p])\n",
        "else:\n",
        "  print('Position out of range')"
      ],
      "metadata": {
        "colab": {
          "base_uri": "https://localhost:8080/"
        },
        "id": "A8cEKNeb2liv",
        "outputId": "3f3c486e-b253-490e-f778-471a318ffbe2"
      },
      "execution_count": null,
      "outputs": [
        {
          "output_type": "stream",
          "name": "stdout",
          "text": [
            "String: M name\n",
            "Position: 4\n",
            "m\n"
          ]
        }
      ]
    },
    {
      "cell_type": "markdown",
      "source": [
        "Word Search"
      ],
      "metadata": {
        "id": "PexSAOn23UGo"
      }
    },
    {
      "cell_type": "code",
      "source": [
        "st = input('String: ')\n",
        "f = input('Search: ')\n",
        "count = 0\n",
        "for i in range(0, len(st)-len(f)+1):\n",
        "  part = ''\n",
        "  for j in range(0, len(f)):\n",
        "    part += st[i+j]\n",
        "  if f == part:\n",
        "    count += 1\n",
        "print(count)"
      ],
      "metadata": {
        "colab": {
          "base_uri": "https://localhost:8080/"
        },
        "id": "511AeiX53W0m",
        "outputId": "99f4a501-030d-477b-d06f-a4fe590058d9"
      },
      "execution_count": null,
      "outputs": [
        {
          "output_type": "stream",
          "name": "stdout",
          "text": [
            "String: toto gaya tokyo tower\n",
            "Search: to\n",
            "4\n"
          ]
        }
      ]
    },
    {
      "cell_type": "markdown",
      "source": [
        "Word Replace"
      ],
      "metadata": {
        "id": "ZZbxztFn6ae-"
      }
    },
    {
      "cell_type": "code",
      "source": [
        "st = input('String: ')\n",
        "f = input('Search: ')\n",
        "r = input('Replace: ')\n",
        "\n",
        "st.replace(f, r)"
      ],
      "metadata": {
        "colab": {
          "base_uri": "https://localhost:8080/",
          "height": 87
        },
        "id": "KcIyxU9c6zui",
        "outputId": "52b49273-0440-4035-fc89-d40605db6c19"
      },
      "execution_count": null,
      "outputs": [
        {
          "name": "stdout",
          "output_type": "stream",
          "text": [
            "String: toto gaya tokyo tower\n",
            "Search: to\n",
            "Replace: go\n"
          ]
        },
        {
          "output_type": "execute_result",
          "data": {
            "text/plain": [
              "'gogo gaya gokyo gower'"
            ],
            "application/vnd.google.colaboratory.intrinsic+json": {
              "type": "string"
            }
          },
          "metadata": {},
          "execution_count": 25
        }
      ]
    },
    {
      "cell_type": "markdown",
      "source": [
        "Acronym"
      ],
      "metadata": {
        "id": "WO8ZBfuANIyu"
      }
    },
    {
      "cell_type": "code",
      "source": [
        "st = input('String: ')\n",
        "ac = ''\n",
        "words = st.split()\n",
        "for i in words:\n",
        "  ac+=i[0].upper()\n",
        "print('Acronym: ', ac)    "
      ],
      "metadata": {
        "colab": {
          "base_uri": "https://localhost:8080/"
        },
        "id": "NXG2jMWHNLSH",
        "outputId": "15685931-7ff3-4ce3-ff88-f32d9c637b00"
      },
      "execution_count": null,
      "outputs": [
        {
          "output_type": "stream",
          "name": "stdout",
          "text": [
            "String: My name is khan\n",
            "Acronym:  MNIK\n"
          ]
        }
      ]
    },
    {
      "cell_type": "markdown",
      "source": [
        "Upper and Lower Case Calculator"
      ],
      "metadata": {
        "id": "-AgDjadbOHXM"
      }
    },
    {
      "cell_type": "code",
      "source": [
        "st = input('String: ')\n",
        "uc, lc = 0, 0\n",
        "for i in st:\n",
        "  if i.isupper():\n",
        "    uc+=1\n",
        "  elif i.islower():\n",
        "    lc+=1\n",
        "\n",
        "print('Upper Case: ', uc)\n",
        "print('Lower Case: ', lc)"
      ],
      "metadata": {
        "colab": {
          "base_uri": "https://localhost:8080/"
        },
        "id": "ZUq3WqytOK3d",
        "outputId": "eab31ecc-e65c-4e83-fe6f-926f5bb97a8f"
      },
      "execution_count": null,
      "outputs": [
        {
          "output_type": "stream",
          "name": "stdout",
          "text": [
            "String: UlTra B\n",
            "Upper Case:  3\n",
            "Lower Case:  3\n"
          ]
        }
      ]
    },
    {
      "cell_type": "markdown",
      "source": [
        "List of Strings"
      ],
      "metadata": {
        "id": "HEvDhQaGO2oN"
      }
    },
    {
      "cell_type": "code",
      "source": [
        "lstn = eval(input('List of Strings: '))\n",
        "c = 0\n",
        "for i in lstn:\n",
        "  if len(i) >= 2:\n",
        "    if i[0] == i[-1]:\n",
        "      c+=1\n",
        "print(c)  "
      ],
      "metadata": {
        "colab": {
          "base_uri": "https://localhost:8080/"
        },
        "id": "vJwwqVFBO4vv",
        "outputId": "7ffae97f-2535-47ec-d103-b599067ff795"
      },
      "execution_count": null,
      "outputs": [
        {
          "output_type": "stream",
          "name": "stdout",
          "text": [
            "List of Strings: ['abc', 'xyz', 'aba', '1221']\n",
            "2\n"
          ]
        }
      ]
    }
  ]
}