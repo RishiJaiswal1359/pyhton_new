{
  "nbformat": 4,
  "nbformat_minor": 0,
  "metadata": {
    "colab": {
      "name": "Module-4.ipynb",
      "provenance": [],
      "authorship_tag": "ABX9TyOhdL49Y2a5mWpYFKAE9nLt",
      "include_colab_link": true
    },
    "kernelspec": {
      "name": "python3",
      "display_name": "Python 3"
    },
    "language_info": {
      "name": "python"
    }
  },
  "cells": [
    {
      "cell_type": "markdown",
      "metadata": {
        "id": "view-in-github",
        "colab_type": "text"
      },
      "source": [
        "<a href=\"https://colab.research.google.com/github/RishiJaiswal1359/pyhton_new/blob/module_4/Module_4.ipynb\" target=\"_parent\"><img src=\"https://colab.research.google.com/assets/colab-badge.svg\" alt=\"Open In Colab\"/></a>"
      ]
    },
    {
      "cell_type": "code",
      "execution_count": null,
      "metadata": {
        "id": "g45LwG745oJj"
      },
      "outputs": [],
      "source": [
        "import sqlite3 as sq\n",
        "from datetime import *\n",
        "con = sq.connect(\"database.db\")\n",
        "cur = con.cursor()"
      ]
    },
    {
      "cell_type": "code",
      "source": [
        "import subprocess"
      ],
      "metadata": {
        "id": "9D5cMLLoDv4D"
      },
      "execution_count": null,
      "outputs": []
    },
    {
      "cell_type": "markdown",
      "source": [
        "Special Commands"
      ],
      "metadata": {
        "id": "bxWbxtJb8fib"
      }
    },
    {
      "cell_type": "code",
      "source": [
        "\n",
        "cur.execute('''CREATE TABLE stocks\n",
        "                (date text, trans text, symbol text, qty real, price real)''')\n",
        "cur.execute(\"INSERT INTO stocks VALUES ('2006-01-05', 'BUY', 'RHAT', 100, 35.14)\")\n",
        "cur.execute(\"INSERT INTO stocks VALUES ('2006-03-28', 'BUY', 'IBM', 1000, 45.0)\")\n",
        "cur.execute(\"INSERT INTO stocks VALUES ('2006-04-06', 'SELL', 'IBM', 500, 53.0)\")\n",
        "cur.execute(\"INSERT INTO stocks VALUES ('2006-04-05', 'BUY', 'MSFT', 1000, 72.0)\")\n",
        "con.commit()"
      ],
      "metadata": {
        "id": "16RKDSMq8hFG"
      },
      "execution_count": null,
      "outputs": []
    },
    {
      "cell_type": "code",
      "source": [
        "for row in cur.execute('SELECT * FROM stocks ORDER BY price'):\n",
        "  print(row)"
      ],
      "metadata": {
        "colab": {
          "base_uri": "https://localhost:8080/"
        },
        "id": "eB8WVnvw_T1s",
        "outputId": "f9f5ea90-4f2d-407e-b17b-9da6b873379a"
      },
      "execution_count": null,
      "outputs": [
        {
          "output_type": "stream",
          "name": "stdout",
          "text": [
            "('2006-01-05', 'BUY', 'RHAT', 100.0, 35.14)\n",
            "('2006-03-28', 'BUY', 'IBM', 1000.0, 45.0)\n",
            "('2006-04-06', 'SELL', 'IBM', 500.0, 53.0)\n",
            "('2006-04-05', 'BUY', 'MSFT', 1000.0, 72.0)\n"
          ]
        }
      ]
    },
    {
      "cell_type": "code",
      "source": [
        "cur.execute(\"DROP TABLE employees\")"
      ],
      "metadata": {
        "colab": {
          "base_uri": "https://localhost:8080/"
        },
        "id": "84dQtXcZEt4e",
        "outputId": "e426ad34-2fc5-4de6-92d1-afb335c0e4de"
      },
      "execution_count": null,
      "outputs": [
        {
          "output_type": "execute_result",
          "data": {
            "text/plain": [
              "<sqlite3.Cursor at 0x7efd70f13570>"
            ]
          },
          "metadata": {},
          "execution_count": 13
        }
      ]
    },
    {
      "cell_type": "code",
      "source": [
        "cur.execute('''CREATE TABLE employees\n",
        "               (first_name text, hire_date numeric)''')\n",
        "data = [\n",
        "        ('Jane', date(2005, 2, 12)),\n",
        "        ('Joe', date(2006, 5, 23)),\n",
        "        ('John', date(2010, 10, 3))\n",
        "]\n",
        "stmt = \"INSERT INTO employees (first_name, hire_date) VALUES (?, ?)\"\n",
        "cur.executemany(stmt, data)\n",
        "for row in cur.execute('SELECT * FROM employees'):\n",
        "  print(row)"
      ],
      "metadata": {
        "colab": {
          "base_uri": "https://localhost:8080/"
        },
        "id": "LIJYG9hJBjiU",
        "outputId": "c3397b64-0d91-479e-bfcd-95255662a283"
      },
      "execution_count": null,
      "outputs": [
        {
          "output_type": "stream",
          "name": "stdout",
          "text": [
            "('Jane', '2005-02-12')\n",
            "('Joe', '2006-05-23')\n",
            "('John', '2010-10-03')\n"
          ]
        }
      ]
    },
    {
      "cell_type": "code",
      "source": [
        "cur.execute('DROP TABLE demo')"
      ],
      "metadata": {
        "colab": {
          "base_uri": "https://localhost:8080/"
        },
        "id": "3STcVWGTf-_q",
        "outputId": "f9373178-c7f2-477c-c399-f795b16e23af"
      },
      "execution_count": null,
      "outputs": [
        {
          "output_type": "execute_result",
          "data": {
            "text/plain": [
              "<sqlite3.Cursor at 0x7efd70f13570>"
            ]
          },
          "metadata": {},
          "execution_count": 15
        }
      ]
    },
    {
      "cell_type": "code",
      "source": [
        "cur.executescript(\"\"\"\n",
        "                  create table demo(\n",
        "                    id,\n",
        "                    name\n",
        "                  );\n",
        "                  insert into demo values ('7058', 'sravan kumar');\n",
        "                  insert into demo values ('7059', 'Jyothika');\n",
        "                  insert into demo values ('7072', 'Harsha');\n",
        "                  insert into demo values ('7075', 'Deepika');\n",
        "                  \n",
        "\"\"\")\n",
        "\n",
        "for i in cur.execute(\"SELECT * FROM demo\"):\n",
        "  print(i)"
      ],
      "metadata": {
        "colab": {
          "base_uri": "https://localhost:8080/"
        },
        "id": "LphIjl1Nd5Yk",
        "outputId": "c626db6a-ac3d-404a-a5dc-549d043b63ad"
      },
      "execution_count": null,
      "outputs": [
        {
          "output_type": "stream",
          "name": "stdout",
          "text": [
            "('7058', 'sravan kumar')\n",
            "('7059', 'Jyothika')\n",
            "('7072', 'Harsha')\n",
            "('7075', 'Deepika')\n"
          ]
        }
      ]
    },
    {
      "cell_type": "code",
      "source": [
        "print(f'Change = {con.total_changes}')"
      ],
      "metadata": {
        "colab": {
          "base_uri": "https://localhost:8080/"
        },
        "id": "8ZBFachnhT9j",
        "outputId": "2aefaa1e-3b4c-40db-8a84-5c5506267ae9"
      },
      "execution_count": null,
      "outputs": [
        {
          "output_type": "stream",
          "name": "stdout",
          "text": [
            "Change = 20\n"
          ]
        }
      ]
    },
    {
      "cell_type": "code",
      "source": [
        "con.rollback()"
      ],
      "metadata": {
        "id": "4p75XgcOiq_n"
      },
      "execution_count": null,
      "outputs": []
    },
    {
      "cell_type": "code",
      "source": [
        "con.commit()"
      ],
      "metadata": {
        "id": "NvWumC-6i1HY"
      },
      "execution_count": null,
      "outputs": []
    },
    {
      "cell_type": "code",
      "source": [
        "print(cur.fetchone())"
      ],
      "metadata": {
        "colab": {
          "base_uri": "https://localhost:8080/"
        },
        "id": "bJ_fiY7kjazj",
        "outputId": "54117b8e-3263-4eff-ca5c-7f473a730a7f"
      },
      "execution_count": null,
      "outputs": [
        {
          "output_type": "stream",
          "name": "stdout",
          "text": [
            "None\n"
          ]
        }
      ]
    },
    {
      "cell_type": "code",
      "source": [
        "print(cur.fetchmany(4))"
      ],
      "metadata": {
        "colab": {
          "base_uri": "https://localhost:8080/"
        },
        "id": "enYXr0sQjh2h",
        "outputId": "a29d9a8c-d993-4c88-9c15-db02818812bf"
      },
      "execution_count": null,
      "outputs": [
        {
          "output_type": "stream",
          "name": "stdout",
          "text": [
            "[]\n"
          ]
        }
      ]
    },
    {
      "cell_type": "code",
      "source": [
        "print(cur.fetchall())"
      ],
      "metadata": {
        "id": "gbOkSiBMjw_8",
        "outputId": "e77d995f-0b5c-42b5-ef55-9ed9e9f83764",
        "colab": {
          "base_uri": "https://localhost:8080/"
        }
      },
      "execution_count": null,
      "outputs": [
        {
          "output_type": "stream",
          "name": "stdout",
          "text": [
            "[]\n"
          ]
        }
      ]
    }
  ]
}